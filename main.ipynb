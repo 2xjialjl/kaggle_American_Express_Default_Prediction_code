{
 "cells": [
  {
   "cell_type": "code",
   "execution_count": 1,
   "metadata": {
    "_cell_guid": "b1076dfc-b9ad-4769-8c92-a6c4dae69d19",
    "_uuid": "8f2839f25d086af736a60e9eeb907d3b93b6e0e5",
    "execution": {
     "iopub.execute_input": "2022-08-11T15:32:19.152927Z",
     "iopub.status.busy": "2022-08-11T15:32:19.152327Z",
     "iopub.status.idle": "2022-08-11T15:32:19.166244Z",
     "shell.execute_reply": "2022-08-11T15:32:19.165041Z"
    },
    "papermill": {
     "duration": 0.026616,
     "end_time": "2022-08-11T15:32:19.168955",
     "exception": false,
     "start_time": "2022-08-11T15:32:19.142339",
     "status": "completed"
    },
    "tags": []
   },
   "outputs": [],
   "source": [
    "#Import packages\n",
    "import numpy as np\n",
    "import pandas as pd"
   ]
  },
  {
   "cell_type": "code",
   "execution_count": 2,
   "metadata": {
    "execution": {
     "iopub.execute_input": "2022-08-11T15:32:19.184939Z",
     "iopub.status.busy": "2022-08-11T15:32:19.184491Z",
     "iopub.status.idle": "2022-08-11T15:33:01.073279Z",
     "shell.execute_reply": "2022-08-11T15:33:01.071875Z"
    },
    "papermill": {
     "duration": 41.908626,
     "end_time": "2022-08-11T15:33:01.084588",
     "exception": false,
     "start_time": "2022-08-11T15:32:19.175962",
     "status": "completed"
    },
    "tags": []
   },
   "outputs": [
    {
     "data": {
      "text/html": [
       "<div>\n",
       "<style scoped>\n",
       "    .dataframe tbody tr th:only-of-type {\n",
       "        vertical-align: middle;\n",
       "    }\n",
       "\n",
       "    .dataframe tbody tr th {\n",
       "        vertical-align: top;\n",
       "    }\n",
       "\n",
       "    .dataframe thead th {\n",
       "        text-align: right;\n",
       "    }\n",
       "</style>\n",
       "<table border=\"1\" class=\"dataframe\">\n",
       "  <thead>\n",
       "    <tr style=\"text-align: right;\">\n",
       "      <th></th>\n",
       "      <th>customer_ID</th>\n",
       "      <th>S_2</th>\n",
       "      <th>P_2</th>\n",
       "      <th>D_39</th>\n",
       "      <th>B_1</th>\n",
       "      <th>B_2</th>\n",
       "      <th>R_1</th>\n",
       "      <th>S_3</th>\n",
       "      <th>D_41</th>\n",
       "      <th>B_3</th>\n",
       "      <th>...</th>\n",
       "      <th>D_136</th>\n",
       "      <th>D_137</th>\n",
       "      <th>D_138</th>\n",
       "      <th>D_139</th>\n",
       "      <th>D_140</th>\n",
       "      <th>D_141</th>\n",
       "      <th>D_142</th>\n",
       "      <th>D_143</th>\n",
       "      <th>D_144</th>\n",
       "      <th>D_145</th>\n",
       "    </tr>\n",
       "  </thead>\n",
       "  <tbody>\n",
       "    <tr>\n",
       "      <th>0</th>\n",
       "      <td>0000099d6bd597052cdcda90ffabf56573fe9d7c79be5f...</td>\n",
       "      <td>2017-03-09</td>\n",
       "      <td>0.938469</td>\n",
       "      <td>0.001733</td>\n",
       "      <td>0.008724</td>\n",
       "      <td>1.006838</td>\n",
       "      <td>0.009228</td>\n",
       "      <td>0.124035</td>\n",
       "      <td>0.008771</td>\n",
       "      <td>0.004709</td>\n",
       "      <td>...</td>\n",
       "      <td>NaN</td>\n",
       "      <td>NaN</td>\n",
       "      <td>NaN</td>\n",
       "      <td>0.002427</td>\n",
       "      <td>0.003706</td>\n",
       "      <td>0.003818</td>\n",
       "      <td>NaN</td>\n",
       "      <td>0.000569</td>\n",
       "      <td>0.000610</td>\n",
       "      <td>0.002674</td>\n",
       "    </tr>\n",
       "    <tr>\n",
       "      <th>1</th>\n",
       "      <td>0000099d6bd597052cdcda90ffabf56573fe9d7c79be5f...</td>\n",
       "      <td>2017-04-07</td>\n",
       "      <td>0.936665</td>\n",
       "      <td>0.005775</td>\n",
       "      <td>0.004923</td>\n",
       "      <td>1.000653</td>\n",
       "      <td>0.006151</td>\n",
       "      <td>0.126750</td>\n",
       "      <td>0.000798</td>\n",
       "      <td>0.002714</td>\n",
       "      <td>...</td>\n",
       "      <td>NaN</td>\n",
       "      <td>NaN</td>\n",
       "      <td>NaN</td>\n",
       "      <td>0.003954</td>\n",
       "      <td>0.003167</td>\n",
       "      <td>0.005032</td>\n",
       "      <td>NaN</td>\n",
       "      <td>0.009576</td>\n",
       "      <td>0.005492</td>\n",
       "      <td>0.009217</td>\n",
       "    </tr>\n",
       "    <tr>\n",
       "      <th>2</th>\n",
       "      <td>0000099d6bd597052cdcda90ffabf56573fe9d7c79be5f...</td>\n",
       "      <td>2017-05-28</td>\n",
       "      <td>0.954180</td>\n",
       "      <td>0.091505</td>\n",
       "      <td>0.021655</td>\n",
       "      <td>1.009672</td>\n",
       "      <td>0.006815</td>\n",
       "      <td>0.123977</td>\n",
       "      <td>0.007598</td>\n",
       "      <td>0.009423</td>\n",
       "      <td>...</td>\n",
       "      <td>NaN</td>\n",
       "      <td>NaN</td>\n",
       "      <td>NaN</td>\n",
       "      <td>0.003269</td>\n",
       "      <td>0.007329</td>\n",
       "      <td>0.000427</td>\n",
       "      <td>NaN</td>\n",
       "      <td>0.003429</td>\n",
       "      <td>0.006986</td>\n",
       "      <td>0.002603</td>\n",
       "    </tr>\n",
       "    <tr>\n",
       "      <th>3</th>\n",
       "      <td>0000099d6bd597052cdcda90ffabf56573fe9d7c79be5f...</td>\n",
       "      <td>2017-06-13</td>\n",
       "      <td>0.960384</td>\n",
       "      <td>0.002455</td>\n",
       "      <td>0.013683</td>\n",
       "      <td>1.002700</td>\n",
       "      <td>0.001373</td>\n",
       "      <td>0.117169</td>\n",
       "      <td>0.000685</td>\n",
       "      <td>0.005531</td>\n",
       "      <td>...</td>\n",
       "      <td>NaN</td>\n",
       "      <td>NaN</td>\n",
       "      <td>NaN</td>\n",
       "      <td>0.006117</td>\n",
       "      <td>0.004516</td>\n",
       "      <td>0.003200</td>\n",
       "      <td>NaN</td>\n",
       "      <td>0.008419</td>\n",
       "      <td>0.006527</td>\n",
       "      <td>0.009600</td>\n",
       "    </tr>\n",
       "    <tr>\n",
       "      <th>4</th>\n",
       "      <td>0000099d6bd597052cdcda90ffabf56573fe9d7c79be5f...</td>\n",
       "      <td>2017-07-16</td>\n",
       "      <td>0.947248</td>\n",
       "      <td>0.002483</td>\n",
       "      <td>0.015193</td>\n",
       "      <td>1.000727</td>\n",
       "      <td>0.007605</td>\n",
       "      <td>0.117325</td>\n",
       "      <td>0.004653</td>\n",
       "      <td>0.009312</td>\n",
       "      <td>...</td>\n",
       "      <td>NaN</td>\n",
       "      <td>NaN</td>\n",
       "      <td>NaN</td>\n",
       "      <td>0.003671</td>\n",
       "      <td>0.004946</td>\n",
       "      <td>0.008889</td>\n",
       "      <td>NaN</td>\n",
       "      <td>0.001670</td>\n",
       "      <td>0.008126</td>\n",
       "      <td>0.009827</td>\n",
       "    </tr>\n",
       "  </tbody>\n",
       "</table>\n",
       "<p>5 rows × 190 columns</p>\n",
       "</div>"
      ],
      "text/plain": [
       "                                         customer_ID         S_2       P_2  \\\n",
       "0  0000099d6bd597052cdcda90ffabf56573fe9d7c79be5f...  2017-03-09  0.938469   \n",
       "1  0000099d6bd597052cdcda90ffabf56573fe9d7c79be5f...  2017-04-07  0.936665   \n",
       "2  0000099d6bd597052cdcda90ffabf56573fe9d7c79be5f...  2017-05-28  0.954180   \n",
       "3  0000099d6bd597052cdcda90ffabf56573fe9d7c79be5f...  2017-06-13  0.960384   \n",
       "4  0000099d6bd597052cdcda90ffabf56573fe9d7c79be5f...  2017-07-16  0.947248   \n",
       "\n",
       "       D_39       B_1       B_2       R_1       S_3      D_41       B_3  ...  \\\n",
       "0  0.001733  0.008724  1.006838  0.009228  0.124035  0.008771  0.004709  ...   \n",
       "1  0.005775  0.004923  1.000653  0.006151  0.126750  0.000798  0.002714  ...   \n",
       "2  0.091505  0.021655  1.009672  0.006815  0.123977  0.007598  0.009423  ...   \n",
       "3  0.002455  0.013683  1.002700  0.001373  0.117169  0.000685  0.005531  ...   \n",
       "4  0.002483  0.015193  1.000727  0.007605  0.117325  0.004653  0.009312  ...   \n",
       "\n",
       "   D_136  D_137  D_138     D_139     D_140     D_141  D_142     D_143  \\\n",
       "0    NaN    NaN    NaN  0.002427  0.003706  0.003818    NaN  0.000569   \n",
       "1    NaN    NaN    NaN  0.003954  0.003167  0.005032    NaN  0.009576   \n",
       "2    NaN    NaN    NaN  0.003269  0.007329  0.000427    NaN  0.003429   \n",
       "3    NaN    NaN    NaN  0.006117  0.004516  0.003200    NaN  0.008419   \n",
       "4    NaN    NaN    NaN  0.003671  0.004946  0.008889    NaN  0.001670   \n",
       "\n",
       "      D_144     D_145  \n",
       "0  0.000610  0.002674  \n",
       "1  0.005492  0.009217  \n",
       "2  0.006986  0.002603  \n",
       "3  0.006527  0.009600  \n",
       "4  0.008126  0.009827  \n",
       "\n",
       "[5 rows x 190 columns]"
      ]
     },
     "execution_count": 2,
     "metadata": {},
     "output_type": "execute_result"
    }
   ],
   "source": [
    "#Loading the train data\n",
    "train_data = pd.read_feather('D:\\kaggle_American_Express_Default Prediction\\\\train_data.ftr')\n",
    "                         \n",
    "#Explore train data\n",
    "train_data.head()"
   ]
  },
  {
   "cell_type": "code",
   "execution_count": 3,
   "metadata": {},
   "outputs": [],
   "source": [
    "train_labels = pd.read_csv(\"D:\\kaggle_American_Express_Default Prediction\\\\train_labels.csv\")"
   ]
  },
  {
   "cell_type": "code",
   "execution_count": 4,
   "metadata": {},
   "outputs": [
    {
     "data": {
      "text/html": [
       "<div>\n",
       "<style scoped>\n",
       "    .dataframe tbody tr th:only-of-type {\n",
       "        vertical-align: middle;\n",
       "    }\n",
       "\n",
       "    .dataframe tbody tr th {\n",
       "        vertical-align: top;\n",
       "    }\n",
       "\n",
       "    .dataframe thead th {\n",
       "        text-align: right;\n",
       "    }\n",
       "</style>\n",
       "<table border=\"1\" class=\"dataframe\">\n",
       "  <thead>\n",
       "    <tr style=\"text-align: right;\">\n",
       "      <th></th>\n",
       "      <th>customer_ID</th>\n",
       "      <th>S_2</th>\n",
       "      <th>P_2</th>\n",
       "      <th>D_39</th>\n",
       "      <th>B_1</th>\n",
       "      <th>B_2</th>\n",
       "      <th>R_1</th>\n",
       "      <th>S_3</th>\n",
       "      <th>D_41</th>\n",
       "      <th>B_3</th>\n",
       "      <th>...</th>\n",
       "      <th>D_137</th>\n",
       "      <th>D_138</th>\n",
       "      <th>D_139</th>\n",
       "      <th>D_140</th>\n",
       "      <th>D_141</th>\n",
       "      <th>D_142</th>\n",
       "      <th>D_143</th>\n",
       "      <th>D_144</th>\n",
       "      <th>D_145</th>\n",
       "      <th>target</th>\n",
       "    </tr>\n",
       "  </thead>\n",
       "  <tbody>\n",
       "    <tr>\n",
       "      <th>0</th>\n",
       "      <td>0000099d6bd597052cdcda90ffabf56573fe9d7c79be5f...</td>\n",
       "      <td>2017-03-09</td>\n",
       "      <td>0.938469</td>\n",
       "      <td>0.001733</td>\n",
       "      <td>0.008724</td>\n",
       "      <td>1.006838</td>\n",
       "      <td>0.009228</td>\n",
       "      <td>0.124035</td>\n",
       "      <td>0.008771</td>\n",
       "      <td>0.004709</td>\n",
       "      <td>...</td>\n",
       "      <td>NaN</td>\n",
       "      <td>NaN</td>\n",
       "      <td>0.002427</td>\n",
       "      <td>0.003706</td>\n",
       "      <td>0.003818</td>\n",
       "      <td>NaN</td>\n",
       "      <td>0.000569</td>\n",
       "      <td>0.000610</td>\n",
       "      <td>0.002674</td>\n",
       "      <td>0</td>\n",
       "    </tr>\n",
       "    <tr>\n",
       "      <th>1</th>\n",
       "      <td>0000099d6bd597052cdcda90ffabf56573fe9d7c79be5f...</td>\n",
       "      <td>2017-04-07</td>\n",
       "      <td>0.936665</td>\n",
       "      <td>0.005775</td>\n",
       "      <td>0.004923</td>\n",
       "      <td>1.000653</td>\n",
       "      <td>0.006151</td>\n",
       "      <td>0.126750</td>\n",
       "      <td>0.000798</td>\n",
       "      <td>0.002714</td>\n",
       "      <td>...</td>\n",
       "      <td>NaN</td>\n",
       "      <td>NaN</td>\n",
       "      <td>0.003954</td>\n",
       "      <td>0.003167</td>\n",
       "      <td>0.005032</td>\n",
       "      <td>NaN</td>\n",
       "      <td>0.009576</td>\n",
       "      <td>0.005492</td>\n",
       "      <td>0.009217</td>\n",
       "      <td>0</td>\n",
       "    </tr>\n",
       "    <tr>\n",
       "      <th>2</th>\n",
       "      <td>0000099d6bd597052cdcda90ffabf56573fe9d7c79be5f...</td>\n",
       "      <td>2017-05-28</td>\n",
       "      <td>0.954180</td>\n",
       "      <td>0.091505</td>\n",
       "      <td>0.021655</td>\n",
       "      <td>1.009672</td>\n",
       "      <td>0.006815</td>\n",
       "      <td>0.123977</td>\n",
       "      <td>0.007598</td>\n",
       "      <td>0.009423</td>\n",
       "      <td>...</td>\n",
       "      <td>NaN</td>\n",
       "      <td>NaN</td>\n",
       "      <td>0.003269</td>\n",
       "      <td>0.007329</td>\n",
       "      <td>0.000427</td>\n",
       "      <td>NaN</td>\n",
       "      <td>0.003429</td>\n",
       "      <td>0.006986</td>\n",
       "      <td>0.002603</td>\n",
       "      <td>0</td>\n",
       "    </tr>\n",
       "    <tr>\n",
       "      <th>3</th>\n",
       "      <td>0000099d6bd597052cdcda90ffabf56573fe9d7c79be5f...</td>\n",
       "      <td>2017-06-13</td>\n",
       "      <td>0.960384</td>\n",
       "      <td>0.002455</td>\n",
       "      <td>0.013683</td>\n",
       "      <td>1.002700</td>\n",
       "      <td>0.001373</td>\n",
       "      <td>0.117169</td>\n",
       "      <td>0.000685</td>\n",
       "      <td>0.005531</td>\n",
       "      <td>...</td>\n",
       "      <td>NaN</td>\n",
       "      <td>NaN</td>\n",
       "      <td>0.006117</td>\n",
       "      <td>0.004516</td>\n",
       "      <td>0.003200</td>\n",
       "      <td>NaN</td>\n",
       "      <td>0.008419</td>\n",
       "      <td>0.006527</td>\n",
       "      <td>0.009600</td>\n",
       "      <td>0</td>\n",
       "    </tr>\n",
       "    <tr>\n",
       "      <th>4</th>\n",
       "      <td>0000099d6bd597052cdcda90ffabf56573fe9d7c79be5f...</td>\n",
       "      <td>2017-07-16</td>\n",
       "      <td>0.947248</td>\n",
       "      <td>0.002483</td>\n",
       "      <td>0.015193</td>\n",
       "      <td>1.000727</td>\n",
       "      <td>0.007605</td>\n",
       "      <td>0.117325</td>\n",
       "      <td>0.004653</td>\n",
       "      <td>0.009312</td>\n",
       "      <td>...</td>\n",
       "      <td>NaN</td>\n",
       "      <td>NaN</td>\n",
       "      <td>0.003671</td>\n",
       "      <td>0.004946</td>\n",
       "      <td>0.008889</td>\n",
       "      <td>NaN</td>\n",
       "      <td>0.001670</td>\n",
       "      <td>0.008126</td>\n",
       "      <td>0.009827</td>\n",
       "      <td>0</td>\n",
       "    </tr>\n",
       "    <tr>\n",
       "      <th>...</th>\n",
       "      <td>...</td>\n",
       "      <td>...</td>\n",
       "      <td>...</td>\n",
       "      <td>...</td>\n",
       "      <td>...</td>\n",
       "      <td>...</td>\n",
       "      <td>...</td>\n",
       "      <td>...</td>\n",
       "      <td>...</td>\n",
       "      <td>...</td>\n",
       "      <td>...</td>\n",
       "      <td>...</td>\n",
       "      <td>...</td>\n",
       "      <td>...</td>\n",
       "      <td>...</td>\n",
       "      <td>...</td>\n",
       "      <td>...</td>\n",
       "      <td>...</td>\n",
       "      <td>...</td>\n",
       "      <td>...</td>\n",
       "      <td>...</td>\n",
       "    </tr>\n",
       "    <tr>\n",
       "      <th>5531446</th>\n",
       "      <td>fffff1d38b785cef84adeace64f8f83db3a0c31e8d92ea...</td>\n",
       "      <td>2017-11-05</td>\n",
       "      <td>0.979332</td>\n",
       "      <td>0.416013</td>\n",
       "      <td>0.020818</td>\n",
       "      <td>0.828199</td>\n",
       "      <td>0.003487</td>\n",
       "      <td>0.090743</td>\n",
       "      <td>0.005340</td>\n",
       "      <td>0.025139</td>\n",
       "      <td>...</td>\n",
       "      <td>NaN</td>\n",
       "      <td>NaN</td>\n",
       "      <td>0.006838</td>\n",
       "      <td>0.003680</td>\n",
       "      <td>0.000457</td>\n",
       "      <td>NaN</td>\n",
       "      <td>0.000905</td>\n",
       "      <td>0.001498</td>\n",
       "      <td>0.002774</td>\n",
       "      <td>0</td>\n",
       "    </tr>\n",
       "    <tr>\n",
       "      <th>5531447</th>\n",
       "      <td>fffff1d38b785cef84adeace64f8f83db3a0c31e8d92ea...</td>\n",
       "      <td>2017-12-23</td>\n",
       "      <td>0.984907</td>\n",
       "      <td>0.296536</td>\n",
       "      <td>0.007209</td>\n",
       "      <td>0.812610</td>\n",
       "      <td>0.005904</td>\n",
       "      <td>0.079886</td>\n",
       "      <td>0.002243</td>\n",
       "      <td>0.023691</td>\n",
       "      <td>...</td>\n",
       "      <td>NaN</td>\n",
       "      <td>NaN</td>\n",
       "      <td>0.003310</td>\n",
       "      <td>0.007097</td>\n",
       "      <td>0.007857</td>\n",
       "      <td>NaN</td>\n",
       "      <td>0.002777</td>\n",
       "      <td>0.008225</td>\n",
       "      <td>0.008856</td>\n",
       "      <td>0</td>\n",
       "    </tr>\n",
       "    <tr>\n",
       "      <th>5531448</th>\n",
       "      <td>fffff1d38b785cef84adeace64f8f83db3a0c31e8d92ea...</td>\n",
       "      <td>2018-01-06</td>\n",
       "      <td>0.983019</td>\n",
       "      <td>0.443984</td>\n",
       "      <td>0.013151</td>\n",
       "      <td>0.815422</td>\n",
       "      <td>0.003457</td>\n",
       "      <td>0.100503</td>\n",
       "      <td>0.002111</td>\n",
       "      <td>0.012343</td>\n",
       "      <td>...</td>\n",
       "      <td>NaN</td>\n",
       "      <td>NaN</td>\n",
       "      <td>0.009955</td>\n",
       "      <td>0.009994</td>\n",
       "      <td>0.001088</td>\n",
       "      <td>NaN</td>\n",
       "      <td>0.005693</td>\n",
       "      <td>0.006773</td>\n",
       "      <td>0.005566</td>\n",
       "      <td>0</td>\n",
       "    </tr>\n",
       "    <tr>\n",
       "      <th>5531449</th>\n",
       "      <td>fffff1d38b785cef84adeace64f8f83db3a0c31e8d92ea...</td>\n",
       "      <td>2018-02-06</td>\n",
       "      <td>0.969861</td>\n",
       "      <td>0.442553</td>\n",
       "      <td>0.009855</td>\n",
       "      <td>1.003541</td>\n",
       "      <td>0.005117</td>\n",
       "      <td>0.101802</td>\n",
       "      <td>0.009930</td>\n",
       "      <td>0.008578</td>\n",
       "      <td>...</td>\n",
       "      <td>NaN</td>\n",
       "      <td>NaN</td>\n",
       "      <td>0.005541</td>\n",
       "      <td>0.006564</td>\n",
       "      <td>0.009883</td>\n",
       "      <td>NaN</td>\n",
       "      <td>0.008123</td>\n",
       "      <td>0.001168</td>\n",
       "      <td>0.003983</td>\n",
       "      <td>0</td>\n",
       "    </tr>\n",
       "    <tr>\n",
       "      <th>5531450</th>\n",
       "      <td>fffff1d38b785cef84adeace64f8f83db3a0c31e8d92ea...</td>\n",
       "      <td>2018-03-14</td>\n",
       "      <td>0.982175</td>\n",
       "      <td>0.002474</td>\n",
       "      <td>0.000077</td>\n",
       "      <td>0.992880</td>\n",
       "      <td>0.000809</td>\n",
       "      <td>0.119165</td>\n",
       "      <td>0.003287</td>\n",
       "      <td>0.014092</td>\n",
       "      <td>...</td>\n",
       "      <td>NaN</td>\n",
       "      <td>NaN</td>\n",
       "      <td>0.007316</td>\n",
       "      <td>0.002888</td>\n",
       "      <td>0.006207</td>\n",
       "      <td>NaN</td>\n",
       "      <td>0.005110</td>\n",
       "      <td>0.003184</td>\n",
       "      <td>0.001914</td>\n",
       "      <td>0</td>\n",
       "    </tr>\n",
       "  </tbody>\n",
       "</table>\n",
       "<p>5531451 rows × 191 columns</p>\n",
       "</div>"
      ],
      "text/plain": [
       "                                               customer_ID         S_2  \\\n",
       "0        0000099d6bd597052cdcda90ffabf56573fe9d7c79be5f...  2017-03-09   \n",
       "1        0000099d6bd597052cdcda90ffabf56573fe9d7c79be5f...  2017-04-07   \n",
       "2        0000099d6bd597052cdcda90ffabf56573fe9d7c79be5f...  2017-05-28   \n",
       "3        0000099d6bd597052cdcda90ffabf56573fe9d7c79be5f...  2017-06-13   \n",
       "4        0000099d6bd597052cdcda90ffabf56573fe9d7c79be5f...  2017-07-16   \n",
       "...                                                    ...         ...   \n",
       "5531446  fffff1d38b785cef84adeace64f8f83db3a0c31e8d92ea...  2017-11-05   \n",
       "5531447  fffff1d38b785cef84adeace64f8f83db3a0c31e8d92ea...  2017-12-23   \n",
       "5531448  fffff1d38b785cef84adeace64f8f83db3a0c31e8d92ea...  2018-01-06   \n",
       "5531449  fffff1d38b785cef84adeace64f8f83db3a0c31e8d92ea...  2018-02-06   \n",
       "5531450  fffff1d38b785cef84adeace64f8f83db3a0c31e8d92ea...  2018-03-14   \n",
       "\n",
       "              P_2      D_39       B_1       B_2       R_1       S_3      D_41  \\\n",
       "0        0.938469  0.001733  0.008724  1.006838  0.009228  0.124035  0.008771   \n",
       "1        0.936665  0.005775  0.004923  1.000653  0.006151  0.126750  0.000798   \n",
       "2        0.954180  0.091505  0.021655  1.009672  0.006815  0.123977  0.007598   \n",
       "3        0.960384  0.002455  0.013683  1.002700  0.001373  0.117169  0.000685   \n",
       "4        0.947248  0.002483  0.015193  1.000727  0.007605  0.117325  0.004653   \n",
       "...           ...       ...       ...       ...       ...       ...       ...   \n",
       "5531446  0.979332  0.416013  0.020818  0.828199  0.003487  0.090743  0.005340   \n",
       "5531447  0.984907  0.296536  0.007209  0.812610  0.005904  0.079886  0.002243   \n",
       "5531448  0.983019  0.443984  0.013151  0.815422  0.003457  0.100503  0.002111   \n",
       "5531449  0.969861  0.442553  0.009855  1.003541  0.005117  0.101802  0.009930   \n",
       "5531450  0.982175  0.002474  0.000077  0.992880  0.000809  0.119165  0.003287   \n",
       "\n",
       "              B_3  ...  D_137  D_138     D_139     D_140     D_141  D_142  \\\n",
       "0        0.004709  ...    NaN    NaN  0.002427  0.003706  0.003818    NaN   \n",
       "1        0.002714  ...    NaN    NaN  0.003954  0.003167  0.005032    NaN   \n",
       "2        0.009423  ...    NaN    NaN  0.003269  0.007329  0.000427    NaN   \n",
       "3        0.005531  ...    NaN    NaN  0.006117  0.004516  0.003200    NaN   \n",
       "4        0.009312  ...    NaN    NaN  0.003671  0.004946  0.008889    NaN   \n",
       "...           ...  ...    ...    ...       ...       ...       ...    ...   \n",
       "5531446  0.025139  ...    NaN    NaN  0.006838  0.003680  0.000457    NaN   \n",
       "5531447  0.023691  ...    NaN    NaN  0.003310  0.007097  0.007857    NaN   \n",
       "5531448  0.012343  ...    NaN    NaN  0.009955  0.009994  0.001088    NaN   \n",
       "5531449  0.008578  ...    NaN    NaN  0.005541  0.006564  0.009883    NaN   \n",
       "5531450  0.014092  ...    NaN    NaN  0.007316  0.002888  0.006207    NaN   \n",
       "\n",
       "            D_143     D_144     D_145  target  \n",
       "0        0.000569  0.000610  0.002674       0  \n",
       "1        0.009576  0.005492  0.009217       0  \n",
       "2        0.003429  0.006986  0.002603       0  \n",
       "3        0.008419  0.006527  0.009600       0  \n",
       "4        0.001670  0.008126  0.009827       0  \n",
       "...           ...       ...       ...     ...  \n",
       "5531446  0.000905  0.001498  0.002774       0  \n",
       "5531447  0.002777  0.008225  0.008856       0  \n",
       "5531448  0.005693  0.006773  0.005566       0  \n",
       "5531449  0.008123  0.001168  0.003983       0  \n",
       "5531450  0.005110  0.003184  0.001914       0  \n",
       "\n",
       "[5531451 rows x 191 columns]"
      ]
     },
     "execution_count": 4,
     "metadata": {},
     "output_type": "execute_result"
    }
   ],
   "source": [
    "train_data = train_data.merge(train_labels , how='left',on = 'customer_ID')\n",
    "train_data"
   ]
  },
  {
   "cell_type": "code",
   "execution_count": 5,
   "metadata": {
    "execution": {
     "iopub.execute_input": "2022-08-11T15:33:01.101498Z",
     "iopub.status.busy": "2022-08-11T15:33:01.100531Z",
     "iopub.status.idle": "2022-08-11T15:33:01.108335Z",
     "shell.execute_reply": "2022-08-11T15:33:01.107307Z"
    },
    "papermill": {
     "duration": 0.019086,
     "end_time": "2022-08-11T15:33:01.110777",
     "exception": false,
     "start_time": "2022-08-11T15:33:01.091691",
     "status": "completed"
    },
    "tags": []
   },
   "outputs": [
    {
     "data": {
      "text/plain": [
       "(5531451, 191)"
      ]
     },
     "execution_count": 5,
     "metadata": {},
     "output_type": "execute_result"
    }
   ],
   "source": [
    "#Check shape of train data\n",
    "train_data.shape"
   ]
  },
  {
   "cell_type": "code",
   "execution_count": 6,
   "metadata": {
    "execution": {
     "iopub.execute_input": "2022-08-11T15:33:01.128031Z",
     "iopub.status.busy": "2022-08-11T15:33:01.127107Z",
     "iopub.status.idle": "2022-08-11T15:33:02.147189Z",
     "shell.execute_reply": "2022-08-11T15:33:02.145810Z"
    },
    "papermill": {
     "duration": 1.031518,
     "end_time": "2022-08-11T15:33:02.149673",
     "exception": false,
     "start_time": "2022-08-11T15:33:01.118155",
     "status": "completed"
    },
    "tags": []
   },
   "outputs": [
    {
     "data": {
      "text/plain": [
       "458913"
      ]
     },
     "execution_count": 6,
     "metadata": {},
     "output_type": "execute_result"
    }
   ],
   "source": [
    "#Check for number of unique customers\n",
    "len(train_data.customer_ID.unique())\n",
    "\n",
    "## We have 458913 unique customers."
   ]
  },
  {
   "cell_type": "code",
   "execution_count": 7,
   "metadata": {
    "execution": {
     "iopub.execute_input": "2022-08-11T15:33:02.174979Z",
     "iopub.status.busy": "2022-08-11T15:33:02.174542Z",
     "iopub.status.idle": "2022-08-11T15:33:05.118469Z",
     "shell.execute_reply": "2022-08-11T15:33:05.117092Z"
    },
    "papermill": {
     "duration": 2.963933,
     "end_time": "2022-08-11T15:33:05.121184",
     "exception": false,
     "start_time": "2022-08-11T15:33:02.157251",
     "status": "completed"
    },
    "tags": []
   },
   "outputs": [
    {
     "data": {
      "text/plain": [
       "customer_ID          0\n",
       "S_2                  0\n",
       "P_2              45985\n",
       "D_39                 0\n",
       "B_1                  0\n",
       "B_2               2016\n",
       "R_1                  0\n",
       "S_3            1020544\n",
       "D_41              2016\n",
       "B_3               2016\n",
       "D_42           4740137\n",
       "D_43           1658396\n",
       "D_44            274319\n",
       "B_4                  0\n",
       "D_45              2017\n",
       "B_5                  0\n",
       "R_2                  0\n",
       "D_46           1211699\n",
       "D_47                 0\n",
       "D_48            718725\n",
       "D_49           4985917\n",
       "B_6                233\n",
       "B_7                  0\n",
       "B_8              22268\n",
       "D_50           3142402\n",
       "D_51                 0\n",
       "B_9                  0\n",
       "R_3                  0\n",
       "D_52             29563\n",
       "P_3             301492\n",
       "B_10                 0\n",
       "D_53           4084585\n",
       "S_5                  0\n",
       "B_11                 0\n",
       "S_6                  0\n",
       "D_54              2016\n",
       "R_4                  0\n",
       "S_7            1020544\n",
       "B_12                 0\n",
       "S_8                  0\n",
       "D_55            184803\n",
       "D_56           2990943\n",
       "B_13             49519\n",
       "R_5                  0\n",
       "D_58                 0\n",
       "S_9            2933643\n",
       "B_14                 0\n",
       "D_59            106725\n",
       "D_60                 0\n",
       "D_61            598052\n",
       "B_15              6923\n",
       "S_11                 0\n",
       "D_62            758161\n",
       "D_63                 0\n",
       "D_64            217442\n",
       "D_65                 0\n",
       "B_16              2016\n",
       "B_17           3137598\n",
       "B_18                 0\n",
       "B_19              2016\n",
       "D_66           4908097\n",
       "B_20              2016\n",
       "D_68            216503\n",
       "S_12                 0\n",
       "R_6                  0\n",
       "S_13                 0\n",
       "B_21                 0\n",
       "D_69            194473\n",
       "B_22              2016\n",
       "D_70             94917\n",
       "D_71                 0\n",
       "D_72             23708\n",
       "S_15                 0\n",
       "B_23                 0\n",
       "D_73           5475595\n",
       "P_4                  0\n",
       "D_74             21773\n",
       "D_75                 0\n",
       "D_76           4908954\n",
       "B_24                 0\n",
       "R_7                  1\n",
       "D_77           2513912\n",
       "B_25              6923\n",
       "B_26              2016\n",
       "D_78            274319\n",
       "D_79             75939\n",
       "R_8                  0\n",
       "R_9            5218918\n",
       "S_16                 0\n",
       "D_80             21773\n",
       "R_10                 0\n",
       "R_11                 0\n",
       "B_27              2016\n",
       "D_81             25687\n",
       "D_82           4058614\n",
       "S_17                 0\n",
       "R_12                56\n",
       "B_28                 0\n",
       "R_13                 0\n",
       "D_83            194473\n",
       "R_14                 1\n",
       "R_15                 0\n",
       "D_84             29563\n",
       "R_16                 0\n",
       "B_29           5150035\n",
       "B_30              2016\n",
       "S_18                 0\n",
       "D_86                 0\n",
       "D_87           5527586\n",
       "R_17                 0\n",
       "R_18                 0\n",
       "D_88           5525447\n",
       "B_31                 0\n",
       "S_19                 0\n",
       "R_19                 0\n",
       "B_32                 0\n",
       "S_20                 0\n",
       "R_20                75\n",
       "R_21                 0\n",
       "B_33              2016\n",
       "D_89             29563\n",
       "R_22                 0\n",
       "R_23                 0\n",
       "D_91            157216\n",
       "D_92                 0\n",
       "D_93                 0\n",
       "D_94                 0\n",
       "R_24                 0\n",
       "R_25                 0\n",
       "D_96                 0\n",
       "S_22             19024\n",
       "S_23               445\n",
       "S_24             18593\n",
       "S_25             12847\n",
       "S_26               634\n",
       "D_102            40655\n",
       "D_103           101548\n",
       "D_104           101548\n",
       "D_105          3021431\n",
       "D_106          4990102\n",
       "D_107           101548\n",
       "B_36                 0\n",
       "B_37                56\n",
       "R_26           4922146\n",
       "R_27            128703\n",
       "B_38              2016\n",
       "D_108          5502513\n",
       "D_109             1597\n",
       "D_110          5500117\n",
       "D_111          5500117\n",
       "B_39           5497819\n",
       "D_112             2650\n",
       "B_40                53\n",
       "S_27           1400935\n",
       "D_113           176716\n",
       "D_114           176716\n",
       "D_115           176716\n",
       "D_116           176716\n",
       "D_117           176716\n",
       "D_118           176716\n",
       "D_119           176716\n",
       "D_120           176716\n",
       "D_121           176716\n",
       "D_122           176716\n",
       "D_123           176716\n",
       "D_124           176716\n",
       "D_125           176716\n",
       "D_126           116816\n",
       "D_127                0\n",
       "D_128           101548\n",
       "D_129           101548\n",
       "B_41               690\n",
       "B_42           5459973\n",
       "D_130           101548\n",
       "D_131           101548\n",
       "D_132          4988874\n",
       "D_133            42716\n",
       "R_28                 0\n",
       "D_134          5336752\n",
       "D_135          5336752\n",
       "D_136          5336752\n",
       "D_137          5336752\n",
       "D_138          5336752\n",
       "D_139           101548\n",
       "D_140            40632\n",
       "D_141           101548\n",
       "D_142          4587043\n",
       "D_143           101548\n",
       "D_144            40727\n",
       "D_145           101548\n",
       "target               0\n",
       "dtype: int64"
      ]
     },
     "execution_count": 7,
     "metadata": {},
     "output_type": "execute_result"
    }
   ],
   "source": [
    "pd.set_option('display.max_rows', 500)\n",
    "pd.set_option('display.max_columns', 500)\n",
    "pd.set_option('display.width', 1000)\n",
    "# Check for number of missing values\n",
    "train_data.isnull().sum()\n",
    "\n",
    "## Could be observed that there are many columns with many missing values"
   ]
  },
  {
   "cell_type": "code",
   "execution_count": 8,
   "metadata": {
    "execution": {
     "iopub.execute_input": "2022-08-11T15:33:05.164127Z",
     "iopub.status.busy": "2022-08-11T15:33:05.143053Z",
     "iopub.status.idle": "2022-08-11T15:33:10.311274Z",
     "shell.execute_reply": "2022-08-11T15:33:10.310056Z"
    },
    "papermill": {
     "duration": 5.184927,
     "end_time": "2022-08-11T15:33:10.313881",
     "exception": false,
     "start_time": "2022-08-11T15:33:05.128954",
     "status": "completed"
    },
    "tags": []
   },
   "outputs": [
    {
     "data": {
      "text/plain": [
       "(458913, 189)"
      ]
     },
     "execution_count": 8,
     "metadata": {},
     "output_type": "execute_result"
    }
   ],
   "source": [
    "# There are multiple transactions. Lets take only the latest transaction from each customer.\n",
    "train=train_data.groupby('customer_ID').tail(1)\n",
    "train=train.set_index(['customer_ID'])\n",
    "\n",
    "#Drop date column since it is no longer relevant\n",
    "train.drop(['S_2'],axis=1,inplace=True)\n",
    "#Check for number of rows\n",
    "train.shape\n",
    "# We now have 458913 rows, which corresponds to the number of unique customers."
   ]
  },
  {
   "cell_type": "code",
   "execution_count": 9,
   "metadata": {
    "execution": {
     "iopub.execute_input": "2022-08-11T15:33:10.332250Z",
     "iopub.status.busy": "2022-08-11T15:33:10.331088Z",
     "iopub.status.idle": "2022-08-11T15:33:10.465854Z",
     "shell.execute_reply": "2022-08-11T15:33:10.464853Z"
    },
    "papermill": {
     "duration": 0.146927,
     "end_time": "2022-08-11T15:33:10.468648",
     "exception": false,
     "start_time": "2022-08-11T15:33:10.321721",
     "status": "completed"
    },
    "tags": []
   },
   "outputs": [
    {
     "data": {
      "text/plain": [
       "25.89336105100531"
      ]
     },
     "execution_count": 9,
     "metadata": {},
     "output_type": "execute_result"
    }
   ],
   "source": [
    "# Check for percentage of defaults to percentage of defaults and non-defaults\n",
    "Percentage=len(train[train.target==1])*100/len(train)\n",
    "Percentage\n",
    "#Only about 25.9% of the data are with defaults"
   ]
  },
  {
   "cell_type": "code",
   "execution_count": 10,
   "metadata": {
    "execution": {
     "iopub.execute_input": "2022-08-11T15:33:10.487297Z",
     "iopub.status.busy": "2022-08-11T15:33:10.486099Z",
     "iopub.status.idle": "2022-08-11T15:33:10.857458Z",
     "shell.execute_reply": "2022-08-11T15:33:10.856556Z"
    },
    "papermill": {
     "duration": 0.383152,
     "end_time": "2022-08-11T15:33:10.859734",
     "exception": false,
     "start_time": "2022-08-11T15:33:10.476582",
     "status": "completed"
    },
    "tags": []
   },
   "outputs": [
    {
     "data": {
      "text/plain": [
       "(458913, 150)"
      ]
     },
     "execution_count": 10,
     "metadata": {},
     "output_type": "execute_result"
    }
   ],
   "source": [
    "#Lets remove columns if there are >90% of missing values.\n",
    "#Given that there are many columns with large number of missing values, it is impractical to go through every single one of them to determine whether it is useful. \n",
    "#Furthermore, we do not have information on the feature (e.g. actual name of the feature) except the type of variable\n",
    "#Brute force is thus a practical option to weed out columns with too many missing values.\n",
    "#Since about 25.9% of the data are defaults(74.1% non-defaults), it is safe to say that columns with >90% missing data are not useful.\n",
    "train=train.dropna(axis=1, thresh=int(0.90*len(train)))\n",
    "\n",
    "#Checking the shape of new train data\n",
    "train.shape\n",
    "## We are now left with 150 columns"
   ]
  },
  {
   "cell_type": "code",
   "execution_count": 11,
   "metadata": {
    "execution": {
     "iopub.execute_input": "2022-08-11T15:33:10.878878Z",
     "iopub.status.busy": "2022-08-11T15:33:10.877788Z",
     "iopub.status.idle": "2022-08-11T15:33:10.903447Z",
     "shell.execute_reply": "2022-08-11T15:33:10.902064Z"
    },
    "papermill": {
     "duration": 0.038729,
     "end_time": "2022-08-11T15:33:10.906961",
     "exception": false,
     "start_time": "2022-08-11T15:33:10.868232",
     "status": "completed"
    },
    "tags": []
   },
   "outputs": [
    {
     "data": {
      "text/html": [
       "<div>\n",
       "<style scoped>\n",
       "    .dataframe tbody tr th:only-of-type {\n",
       "        vertical-align: middle;\n",
       "    }\n",
       "\n",
       "    .dataframe tbody tr th {\n",
       "        vertical-align: top;\n",
       "    }\n",
       "\n",
       "    .dataframe thead th {\n",
       "        text-align: right;\n",
       "    }\n",
       "</style>\n",
       "<table border=\"1\" class=\"dataframe\">\n",
       "  <thead>\n",
       "    <tr style=\"text-align: right;\">\n",
       "      <th></th>\n",
       "      <th>D_63</th>\n",
       "      <th>D_64</th>\n",
       "    </tr>\n",
       "    <tr>\n",
       "      <th>customer_ID</th>\n",
       "      <th></th>\n",
       "      <th></th>\n",
       "    </tr>\n",
       "  </thead>\n",
       "  <tbody>\n",
       "    <tr>\n",
       "      <th>0000099d6bd597052cdcda90ffabf56573fe9d7c79be5fbac11a8ed792feb62a</th>\n",
       "      <td>CR</td>\n",
       "      <td>O</td>\n",
       "    </tr>\n",
       "    <tr>\n",
       "      <th>00000fd6641609c6ece5454664794f0340ad84dddce9a267a310b5ae68e9d8e5</th>\n",
       "      <td>CO</td>\n",
       "      <td>O</td>\n",
       "    </tr>\n",
       "    <tr>\n",
       "      <th>00001b22f846c82c51f6e3958ccd81970162bae8b007e80662ef27519fcc18c1</th>\n",
       "      <td>CO</td>\n",
       "      <td>R</td>\n",
       "    </tr>\n",
       "    <tr>\n",
       "      <th>000041bdba6ecadd89a52d11886e8eaaec9325906c9723355abb5ca523658edc</th>\n",
       "      <td>CO</td>\n",
       "      <td>O</td>\n",
       "    </tr>\n",
       "    <tr>\n",
       "      <th>00007889e4fcd2614b6cbe7f8f3d2e5c728eca32d9eb8ad51ca8b8c4a24cefed</th>\n",
       "      <td>CO</td>\n",
       "      <td>O</td>\n",
       "    </tr>\n",
       "    <tr>\n",
       "      <th>...</th>\n",
       "      <td>...</td>\n",
       "      <td>...</td>\n",
       "    </tr>\n",
       "    <tr>\n",
       "      <th>ffff41c8a52833b56430603969b9ca48d208e7c192c6a4081a6acc28cf4f8af7</th>\n",
       "      <td>CO</td>\n",
       "      <td>U</td>\n",
       "    </tr>\n",
       "    <tr>\n",
       "      <th>ffff518bb2075e4816ee3fe9f3b152c57fc0e6f01bf7fdd3e5b57cfcbee30286</th>\n",
       "      <td>CO</td>\n",
       "      <td>R</td>\n",
       "    </tr>\n",
       "    <tr>\n",
       "      <th>ffff9984b999fccb2b6127635ed0736dda94e544e67e026eee4d20f680639ff6</th>\n",
       "      <td>CO</td>\n",
       "      <td>U</td>\n",
       "    </tr>\n",
       "    <tr>\n",
       "      <th>ffffa5c46bc8de74f5a4554e74e239c8dee6b9baf388145b2c3d01967fcce461</th>\n",
       "      <td>CO</td>\n",
       "      <td>U</td>\n",
       "    </tr>\n",
       "    <tr>\n",
       "      <th>fffff1d38b785cef84adeace64f8f83db3a0c31e8d92eaba8b115f71cab04681</th>\n",
       "      <td>CL</td>\n",
       "      <td>O</td>\n",
       "    </tr>\n",
       "  </tbody>\n",
       "</table>\n",
       "<p>458913 rows × 2 columns</p>\n",
       "</div>"
      ],
      "text/plain": [
       "                                                   D_63 D_64\n",
       "customer_ID                                                 \n",
       "0000099d6bd597052cdcda90ffabf56573fe9d7c79be5fb...   CR    O\n",
       "00000fd6641609c6ece5454664794f0340ad84dddce9a26...   CO    O\n",
       "00001b22f846c82c51f6e3958ccd81970162bae8b007e80...   CO    R\n",
       "000041bdba6ecadd89a52d11886e8eaaec9325906c97233...   CO    O\n",
       "00007889e4fcd2614b6cbe7f8f3d2e5c728eca32d9eb8ad...   CO    O\n",
       "...                                                 ...  ...\n",
       "ffff41c8a52833b56430603969b9ca48d208e7c192c6a40...   CO    U\n",
       "ffff518bb2075e4816ee3fe9f3b152c57fc0e6f01bf7fdd...   CO    R\n",
       "ffff9984b999fccb2b6127635ed0736dda94e544e67e026...   CO    U\n",
       "ffffa5c46bc8de74f5a4554e74e239c8dee6b9baf388145...   CO    U\n",
       "fffff1d38b785cef84adeace64f8f83db3a0c31e8d92eab...   CL    O\n",
       "\n",
       "[458913 rows x 2 columns]"
      ]
     },
     "execution_count": 11,
     "metadata": {},
     "output_type": "execute_result"
    }
   ],
   "source": [
    "#Identify columns which are not numeric\n",
    "train.select_dtypes(['object'])\n",
    "\n",
    "##D_63 and D_64 turns out to be categorical but are strings"
   ]
  },
  {
   "cell_type": "code",
   "execution_count": 12,
   "metadata": {
    "execution": {
     "iopub.execute_input": "2022-08-11T15:33:10.925983Z",
     "iopub.status.busy": "2022-08-11T15:33:10.924709Z",
     "iopub.status.idle": "2022-08-11T15:33:12.380801Z",
     "shell.execute_reply": "2022-08-11T15:33:12.379485Z"
    },
    "papermill": {
     "duration": 1.468879,
     "end_time": "2022-08-11T15:33:12.384127",
     "exception": false,
     "start_time": "2022-08-11T15:33:10.915248",
     "status": "completed"
    },
    "tags": []
   },
   "outputs": [],
   "source": [
    "#Perform one-hot encoding for D_63 and D_64\n",
    "#Drop columns D_63 and D_64 subsequently\n",
    "train_D63 = pd.get_dummies(train[['D_63']])\n",
    "train = pd.concat([train, train_D63], axis=1)\n",
    "train = train.drop(['D_63'], axis=1)\n",
    "\n",
    "train_D64 = pd.get_dummies(train[['D_64']])\n",
    "train = pd.concat([train, train_D64], axis=1)\n",
    "train = train.drop(['D_64'], axis=1)"
   ]
  },
  {
   "cell_type": "code",
   "execution_count": 13,
   "metadata": {
    "execution": {
     "iopub.execute_input": "2022-08-11T15:33:12.402631Z",
     "iopub.status.busy": "2022-08-11T15:33:12.401817Z",
     "iopub.status.idle": "2022-08-11T15:33:12.410377Z",
     "shell.execute_reply": "2022-08-11T15:33:12.408979Z"
    },
    "papermill": {
     "duration": 0.022177,
     "end_time": "2022-08-11T15:33:12.414435",
     "exception": false,
     "start_time": "2022-08-11T15:33:12.392258",
     "status": "completed"
    },
    "tags": []
   },
   "outputs": [
    {
     "data": {
      "text/plain": [
       "Index(['P_2', 'D_39', 'B_1', 'B_2', 'R_1', 'D_41', 'B_3', 'D_44', 'B_4', 'D_45',\n",
       "       ...\n",
       "       'target', 'D_63_CL', 'D_63_CO', 'D_63_CR', 'D_63_XL', 'D_63_XM', 'D_63_XZ', 'D_64_O', 'D_64_R', 'D_64_U'], dtype='object', length=157)"
      ]
     },
     "execution_count": 13,
     "metadata": {},
     "output_type": "execute_result"
    }
   ],
   "source": [
    "#Lets check for the columns\n",
    "train.columns\n",
    "# We now have 196 columns including target\n",
    "# We need to reduce the dimensionality of the data"
   ]
  },
  {
   "cell_type": "code",
   "execution_count": 14,
   "metadata": {
    "execution": {
     "iopub.execute_input": "2022-08-11T15:33:12.434918Z",
     "iopub.status.busy": "2022-08-11T15:33:12.433716Z",
     "iopub.status.idle": "2022-08-11T15:33:43.242222Z",
     "shell.execute_reply": "2022-08-11T15:33:43.240912Z"
    },
    "papermill": {
     "duration": 30.828138,
     "end_time": "2022-08-11T15:33:43.251863",
     "exception": false,
     "start_time": "2022-08-11T15:33:12.423725",
     "status": "completed"
    },
    "tags": []
   },
   "outputs": [
    {
     "data": {
      "text/plain": [
       "(458913, 133)"
      ]
     },
     "execution_count": 14,
     "metadata": {},
     "output_type": "execute_result"
    }
   ],
   "source": [
    "# We shall remove highly correlated features.\n",
    "train_without_target=train.drop(['target'],axis=1)\n",
    "cor_matrix = train_without_target.corr().abs()\n",
    "upper_tri = cor_matrix.where((np.triu(np.ones(cor_matrix.shape), k=1) + np.tril(np.ones(cor_matrix.shape), k=-1)).astype(bool))\n",
    "#Drop out columns with absolute correlation of more than 90%\n",
    "to_drop = [column for column in upper_tri.columns if any(upper_tri[column] > 0.90)]\n",
    "train_drop_highcorr=train_without_target.drop(to_drop,axis=1)\n",
    "train_drop_highcorr.shape\n",
    "#We are now left with 133 columns (excluding target), which is still significant"
   ]
  },
  {
   "cell_type": "code",
   "execution_count": 15,
   "metadata": {
    "execution": {
     "iopub.execute_input": "2022-08-11T15:33:43.270739Z",
     "iopub.status.busy": "2022-08-11T15:33:43.270247Z",
     "iopub.status.idle": "2022-08-11T15:33:45.892870Z",
     "shell.execute_reply": "2022-08-11T15:33:45.891531Z"
    },
    "papermill": {
     "duration": 2.635035,
     "end_time": "2022-08-11T15:33:45.895469",
     "exception": false,
     "start_time": "2022-08-11T15:33:43.260434",
     "status": "completed"
    },
    "tags": []
   },
   "outputs": [
    {
     "data": {
      "text/plain": [
       "74"
      ]
     },
     "execution_count": 15,
     "metadata": {},
     "output_type": "execute_result"
    }
   ],
   "source": [
    "# Lets remove columns with low variance=0.06. Keep only columns with high variance\n",
    "from sklearn.feature_selection import VarianceThreshold\n",
    "from itertools import compress\n",
    "def fs_variance(df, threshold:float=0.06):\n",
    "    \"\"\"\n",
    "    Return a list of selected variables based on the threshold.\n",
    "    \"\"\"\n",
    "    # The list of columns in the data frame\n",
    "    features = list(df.columns)\n",
    "    \n",
    "    # Initialize and fit the method\n",
    "    vt = VarianceThreshold(threshold = threshold)\n",
    "    _ = vt.fit(df)\n",
    "    \n",
    "    # Get which column names which pass the threshold\n",
    "    feat_select = list(compress(features, vt.get_support()))\n",
    "    \n",
    "    return feat_select\n",
    "columns_to_keep=fs_variance(train_drop_highcorr)\n",
    "# We are left with 74 columns (excluding target), which passed the threshold.\n",
    "train_final=train[columns_to_keep]\n",
    "len(columns_to_keep)"
   ]
  },
  {
   "cell_type": "code",
   "execution_count": 16,
   "metadata": {
    "execution": {
     "iopub.execute_input": "2022-08-11T15:33:45.915395Z",
     "iopub.status.busy": "2022-08-11T15:33:45.914008Z",
     "iopub.status.idle": "2022-08-11T15:33:46.190227Z",
     "shell.execute_reply": "2022-08-11T15:33:46.188665Z"
    },
    "papermill": {
     "duration": 0.289129,
     "end_time": "2022-08-11T15:33:46.193151",
     "exception": false,
     "start_time": "2022-08-11T15:33:45.904022",
     "status": "completed"
    },
    "tags": []
   },
   "outputs": [],
   "source": [
    "#Concat target onto train_final\n",
    "train_final1=train_final.join(train['target'])\n",
    "x_train=train_final1.drop(['target'],axis=1)\n",
    "y_train=train_final1['target']"
   ]
  },
  {
   "cell_type": "code",
   "execution_count": 53,
   "metadata": {
    "execution": {
     "iopub.execute_input": "2022-08-11T15:33:46.212256Z",
     "iopub.status.busy": "2022-08-11T15:33:46.211763Z",
     "iopub.status.idle": "2022-08-11T15:33:46.643059Z",
     "shell.execute_reply": "2022-08-11T15:33:46.641769Z"
    },
    "papermill": {
     "duration": 0.444169,
     "end_time": "2022-08-11T15:33:46.645852",
     "exception": false,
     "start_time": "2022-08-11T15:33:46.201683",
     "status": "completed"
    },
    "tags": []
   },
   "outputs": [],
   "source": [
    "# Split train data into training and testing sets\n",
    "from sklearn.model_selection import train_test_split\n",
    "from sklearn.metrics import accuracy_score  \n",
    "from sklearn.metrics import precision_score                         \n",
    "from sklearn.metrics import recall_score\n",
    "x_train_split, x_test_split, y_train_split, y_test_split = train_test_split(x_train, y_train, test_size=0.25, random_state=26)"
   ]
  },
  {
   "cell_type": "code",
   "execution_count": 54,
   "metadata": {
    "execution": {
     "iopub.execute_input": "2022-08-11T15:33:46.666014Z",
     "iopub.status.busy": "2022-08-11T15:33:46.664643Z",
     "iopub.status.idle": "2022-08-11T15:40:20.843873Z",
     "shell.execute_reply": "2022-08-11T15:40:20.842311Z"
    },
    "papermill": {
     "duration": 394.205634,
     "end_time": "2022-08-11T15:40:20.860127",
     "exception": false,
     "start_time": "2022-08-11T15:33:46.654493",
     "status": "completed"
    },
    "tags": []
   },
   "outputs": [
    {
     "data": {
      "text/plain": [
       "XGBClassifier(base_score=0.5, booster='gbtree', colsample_bylevel=1,\n",
       "              colsample_bynode=1, colsample_bytree=1, gamma=0, gpu_id=-1,\n",
       "              importance_type='gain', interaction_constraints='',\n",
       "              learning_rate=0.300000012, max_delta_step=0, max_depth=6,\n",
       "              min_child_weight=1, missing=nan, monotone_constraints='()',\n",
       "              n_estimators=100, n_jobs=0, num_parallel_tree=1,\n",
       "              objective='binary:logistic', random_state=0, reg_alpha=0,\n",
       "              reg_lambda=1, scale_pos_weight=1, subsample=1,\n",
       "              tree_method='exact', validate_parameters=1, verbosity=None)"
      ]
     },
     "execution_count": 54,
     "metadata": {},
     "output_type": "execute_result"
    }
   ],
   "source": [
    "# Use XGBoost Classifier\n",
    "from xgboost import XGBClassifier\n",
    "model=XGBClassifier(objective='binary:logistic')\n",
    "model.fit(x_train_split,y_train_split)"
   ]
  },
  {
   "cell_type": "code",
   "execution_count": 55,
   "metadata": {
    "execution": {
     "iopub.execute_input": "2022-08-11T15:40:20.880094Z",
     "iopub.status.busy": "2022-08-11T15:40:20.879565Z",
     "iopub.status.idle": "2022-08-11T15:40:21.182156Z",
     "shell.execute_reply": "2022-08-11T15:40:21.180802Z"
    },
    "papermill": {
     "duration": 0.316301,
     "end_time": "2022-08-11T15:40:21.185204",
     "exception": false,
     "start_time": "2022-08-11T15:40:20.868903",
     "status": "completed"
    },
    "tags": []
   },
   "outputs": [
    {
     "name": "stdout",
     "output_type": "stream",
     "text": [
      "\\XGBoost Classifier Accuracy: 0.892\n"
     ]
    }
   ],
   "source": [
    "#Test the model\n",
    "y_predict=model.predict(x_test_split)\n",
    "print('\\XGBoost Classifier Accuracy: {:.3f}'.format(accuracy_score(y_test_split, y_predict)))\n",
    "# Achieved 89.3% accuracy"
   ]
  },
  {
   "cell_type": "code",
   "execution_count": 56,
   "metadata": {
    "execution": {
     "iopub.execute_input": "2022-08-11T15:40:21.204959Z",
     "iopub.status.busy": "2022-08-11T15:40:21.204254Z",
     "iopub.status.idle": "2022-08-11T15:40:21.265275Z",
     "shell.execute_reply": "2022-08-11T15:40:21.263830Z"
    },
    "papermill": {
     "duration": 0.074303,
     "end_time": "2022-08-11T15:40:21.268146",
     "exception": false,
     "start_time": "2022-08-11T15:40:21.193843",
     "status": "completed"
    },
    "tags": []
   },
   "outputs": [
    {
     "name": "stdout",
     "output_type": "stream",
     "text": [
      "\n",
      "XGBoost Classifier Precision: 0.793\n"
     ]
    }
   ],
   "source": [
    "print('\\nXGBoost Classifier Precision: {:.3f}'.format(precision_score (y_test_split, y_predict)))\n",
    "# Achieved Precision Score of 0.794"
   ]
  },
  {
   "cell_type": "code",
   "execution_count": 57,
   "metadata": {
    "execution": {
     "iopub.execute_input": "2022-08-11T15:40:21.287895Z",
     "iopub.status.busy": "2022-08-11T15:40:21.287334Z",
     "iopub.status.idle": "2022-08-11T15:40:21.349707Z",
     "shell.execute_reply": "2022-08-11T15:40:21.347861Z"
    },
    "papermill": {
     "duration": 0.076047,
     "end_time": "2022-08-11T15:40:21.353014",
     "exception": false,
     "start_time": "2022-08-11T15:40:21.276967",
     "status": "completed"
    },
    "tags": []
   },
   "outputs": [
    {
     "name": "stdout",
     "output_type": "stream",
     "text": [
      "\n",
      "XGBoost Classifier Recall: 0.787\n"
     ]
    }
   ],
   "source": [
    "print('\\nXGBoost Classifier Recall: {:.3f}'.format(recall_score (y_test_split, y_predict)))\n",
    "#Achieved Recall Score of 0.787"
   ]
  }
 ],
 "metadata": {
  "kernelspec": {
   "display_name": "Python 3",
   "language": "python",
   "name": "python3"
  },
  "language_info": {
   "codemirror_mode": {
    "name": "ipython",
    "version": 3
   },
   "file_extension": ".py",
   "mimetype": "text/x-python",
   "name": "python",
   "nbconvert_exporter": "python",
   "pygments_lexer": "ipython3",
   "version": "3.7.6"
  },
  "papermill": {
   "default_parameters": {},
   "duration": 547.735171,
   "end_time": "2022-08-11T15:41:16.883065",
   "environment_variables": {},
   "exception": null,
   "input_path": "__notebook__.ipynb",
   "output_path": "__notebook__.ipynb",
   "parameters": {},
   "start_time": "2022-08-11T15:32:09.147894",
   "version": "2.3.4"
  },
  "toc": {
   "base_numbering": 1,
   "nav_menu": {},
   "number_sections": true,
   "sideBar": true,
   "skip_h1_title": false,
   "title_cell": "Table of Contents",
   "title_sidebar": "Contents",
   "toc_cell": false,
   "toc_position": {},
   "toc_section_display": true,
   "toc_window_display": false
  }
 },
 "nbformat": 4,
 "nbformat_minor": 5
}
